{
  "cells": [
    {
      "cell_type": "markdown",
      "metadata": {
        "id": "view-in-github",
        "colab_type": "text"
      },
      "source": [
        "<a href=\"https://colab.research.google.com/github/doyoung1122/24-2/blob/Mathematical_Statistics1/%EC%88%98%EB%A6%AC%ED%86%B5%EA%B3%84%ED%95%99_ipynb%EC%9D%98_%EC%82%AC%EB%B3%B8.ipynb\" target=\"_parent\"><img src=\"https://colab.research.google.com/assets/colab-badge.svg\" alt=\"Open In Colab\"/></a>"
      ]
    },
    {
      "cell_type": "markdown",
      "metadata": {
        "id": "0_zW6JNY-Zhs"
      },
      "source": [
        "**여러가지** 지표를 활용 출산율을 예측하는 회귀분석"
      ]
    },
    {
      "cell_type": "code",
      "execution_count": null,
      "metadata": {
        "id": "p2xvfB1z-Upk"
      },
      "outputs": [],
      "source": [
        "import pandas as pd\n",
        "from sklearn.model_selection import train_test_split\n",
        "from sklearn.linear_model import LinearRegression\n",
        "from sklearn.metrics import mean_squared_error, r2_score\n",
        "import numpy as np\n",
        "import matplotlib.pyplot as plt\n",
        "from sklearn.preprocessing import StandardScaler"
      ]
    },
    {
      "cell_type": "code",
      "execution_count": null,
      "metadata": {
        "id": "OR6LnqQlOawa"
      },
      "outputs": [],
      "source": [
        "file_urls = [\n",
        "    \"https://drive.google.com/file/d/1-KrUaTo4EQYQ3HYsPitpX8cwraVeP0QD/view?usp=sharing\",\n",
        "    \"https://drive.google.com/file/d/1-HYm5ImhvOsFpGRDTOZErSdU4hKnWSQg/view?usp=sharing\",\n",
        "    \"https://drive.google.com/file/d/1-MrubFB0vDgwhluYbfOzebyGmN6D84PU/view?usp=sharing\",\n",
        "    \"https://drive.google.com/file/d/1-O1im7KE7PkGuE_ckg1MQK79ziG5Pr5K/view?usp=sharing\",\n",
        "    \"https://drive.google.com/file/d/1-8rkUyXTDEWC48zBGc4f2ZBshCOZGIHY/view?usp=sharing\",\n",
        "    \"https://drive.google.com/file/d/1-P8fjLxHFVlDCXYzhApBuXHBknidCUza/view?usp=sharing\"\n",
        "]\n",
        "\n",
        "download_urls = [\n",
        "    f\"https://drive.google.com/uc?id={url.split('/d/')[1].split('/view')[0]}\" for url in file_urls\n",
        "]\n",
        "\n",
        "data_frames = [pd.read_csv(url) for url in download_urls]\n",
        "combined_data = pd.concat(data_frames, ignore_index=True)"
      ]
    },
    {
      "cell_type": "code",
      "execution_count": null,
      "metadata": {
        "id": "NuMFiId6RhFa"
      },
      "outputs": [],
      "source": [
        "numeric_columns = [\"합계출산율\", \"1인당 지역내총생산\", \"1인당 지역총소득\", \"1인당 개인소득\", \"1인당 민간소비\", \"경제활동인구 (천명)\", \"고용률 (%)\", \"실업률 (％)\"]\n",
        "\n",
        "for col in numeric_columns:\n",
        "    if combined_data[col].dtype == 'object':\n",
        "        combined_data[col] = combined_data[col].str.replace(\",\", \"\").astype(float)"
      ]
    },
    {
      "cell_type": "code",
      "execution_count": null,
      "metadata": {
        "id": "FKwwuCM4RjYE"
      },
      "outputs": [],
      "source": [
        "X = combined_data[[\n",
        "    \"1인당 지역내총생산\", \"1인당 지역총소득\", \"1인당 개인소득\", \"1인당 민간소비\", \"경제활동인구 (천명)\", \"고용률 (%)\", \"실업률 (％)\"\n",
        "]].values\n",
        "y = combined_data[\"합계출산율\"].values"
      ]
    },
    {
      "cell_type": "code",
      "execution_count": null,
      "metadata": {
        "id": "B3tq25SlRoVG"
      },
      "outputs": [],
      "source": [
        "X_train, X_test, y_train, y_test = train_test_split(X, y, test_size=0.2, random_state=42)"
      ]
    },
    {
      "cell_type": "code",
      "source": [
        "X_train.shape"
      ],
      "metadata": {
        "colab": {
          "base_uri": "https://localhost:8080/"
        },
        "id": "0kWTR8DWUc3n",
        "outputId": "dd3a0900-a946-4750-feab-0928bb60d2a4"
      },
      "execution_count": null,
      "outputs": [
        {
          "output_type": "execute_result",
          "data": {
            "text/plain": [
              "(86, 7)"
            ]
          },
          "metadata": {},
          "execution_count": 8
        }
      ]
    },
    {
      "cell_type": "code",
      "source": [
        "# 데이터 정규화\n",
        "scaler = StandardScaler()\n",
        "X_train = scaler.fit_transform(X_train)\n",
        "X_test = scaler.transform(X_test)"
      ],
      "metadata": {
        "id": "diBVXdFhj9PX"
      },
      "execution_count": null,
      "outputs": []
    },
    {
      "cell_type": "code",
      "source": [
        "# 신경망 구조 설정\n",
        "d_input = X_train.shape[1]  # 입력 변수 개수 (7개)\n",
        "d_hidden = 10\n",
        "d_output = 1\n",
        "\n",
        "# 가중치 및 편향 초기화\n",
        "np.random.seed(42)\n",
        "w1 = np.random.rand(d_input, d_hidden)\n",
        "w2 = np.random.rand(d_hidden, d_output)\n",
        "b1 = np.random.rand(1, d_hidden)\n",
        "b2 = np.random.rand(1, d_output)\n",
        "\n",
        "# 학습 파라미터 설정\n",
        "lr = 0.01\n",
        "num_epochs = 1000\n",
        "\n",
        "# 학습\n",
        "for epoch in range(num_epochs):\n",
        "    z1 = np.dot(X_train, w1) + b1\n",
        "    h = 1 / (1 + np.exp(-z1))\n",
        "    y_pred = np.dot(h, w2) + b2\n",
        "\n",
        "    # 손실 계산\n",
        "    loss = np.mean(np.square(y_pred - y_train.reshape(-1, 1)))\n",
        "\n",
        "    if (epoch % 100) == 0:\n",
        "        print(f'Epoch {epoch + 1}/{num_epochs}, Loss: {loss:.4f}')\n",
        "\n",
        "    # 역전파\n",
        "    grad_y_pred = 2.0 * (y_pred - y_train.reshape(-1, 1)) / y_train.size\n",
        "    grad_w2 = np.dot(h.T, grad_y_pred)\n",
        "    grad_b2 = np.sum(grad_y_pred, axis=0, keepdims=True)\n",
        "    grad_h = np.dot(grad_y_pred, w2.T) * (h * (1 - h))\n",
        "    grad_w1 = np.dot(X_train.T, grad_h)\n",
        "    grad_b1 = np.sum(grad_h, axis=0, keepdims=True)\n",
        "\n",
        "    # 경량 하강법\n",
        "    w1 -= lr * grad_w1\n",
        "    b1 -= lr * grad_b1\n",
        "    w2 -= lr * grad_w2\n",
        "    b2 -= lr * grad_b2"
      ],
      "metadata": {
        "colab": {
          "base_uri": "https://localhost:8080/"
        },
        "id": "Dvvyl6tGpqtg",
        "outputId": "96994432-0afd-40c2-df07-81a996806f53"
      },
      "execution_count": null,
      "outputs": [
        {
          "output_type": "stream",
          "name": "stdout",
          "text": [
            "Epoch 1/1000, Loss: 4.3861\n",
            "Epoch 101/1000, Loss: 0.2123\n",
            "Epoch 201/1000, Loss: 0.1213\n",
            "Epoch 301/1000, Loss: 0.0792\n",
            "Epoch 401/1000, Loss: 0.0583\n",
            "Epoch 501/1000, Loss: 0.0469\n",
            "Epoch 601/1000, Loss: 0.0399\n",
            "Epoch 701/1000, Loss: 0.0351\n",
            "Epoch 801/1000, Loss: 0.0317\n",
            "Epoch 901/1000, Loss: 0.0291\n"
          ]
        }
      ]
    },
    {
      "cell_type": "code",
      "source": [
        "# 테스트 데이터 예측\n",
        "z1_test = np.dot(X_test, w1) + b1\n",
        "h_test = 1 / (1 + np.exp(-z1_test))\n",
        "y_pred_test = np.dot(h_test, w2) + b2"
      ],
      "metadata": {
        "id": "U5GJEjl9lbsx"
      },
      "execution_count": null,
      "outputs": []
    },
    {
      "cell_type": "code",
      "source": [
        "# 예측 결과 시각화\n",
        "plt.figure(figsize=(10, 6))\n",
        "plt.scatter(y_test, y_pred_test, color='blue', label='예측 값')\n",
        "plt.plot([min(y_test), max(y_test)], [min(y_test), max(y_test)], color='red', linestyle='--', label='정확한 예측선')\n",
        "plt.xlabel('실제 값')\n",
        "plt.ylabel('예측 값')\n",
        "plt.title('실제 값 vs 예측 값')\n",
        "plt.legend()\n",
        "plt.grid()\n",
        "plt.show()"
      ],
      "metadata": {
        "colab": {
          "base_uri": "https://localhost:8080/",
          "height": 894
        },
        "id": "7icC9Y8pldqR",
        "outputId": "c239a3ac-f2f0-4cb7-a534-576eda6fe6d2"
      },
      "execution_count": null,
      "outputs": [
        {
          "output_type": "stream",
          "name": "stderr",
          "text": [
            "/usr/local/lib/python3.10/dist-packages/IPython/core/pylabtools.py:151: UserWarning: Glyph 50696 (\\N{HANGUL SYLLABLE YE}) missing from current font.\n",
            "  fig.canvas.print_figure(bytes_io, **kw)\n",
            "/usr/local/lib/python3.10/dist-packages/IPython/core/pylabtools.py:151: UserWarning: Glyph 52769 (\\N{HANGUL SYLLABLE CEUG}) missing from current font.\n",
            "  fig.canvas.print_figure(bytes_io, **kw)\n",
            "/usr/local/lib/python3.10/dist-packages/IPython/core/pylabtools.py:151: UserWarning: Glyph 44050 (\\N{HANGUL SYLLABLE GABS}) missing from current font.\n",
            "  fig.canvas.print_figure(bytes_io, **kw)\n",
            "/usr/local/lib/python3.10/dist-packages/IPython/core/pylabtools.py:151: UserWarning: Glyph 49892 (\\N{HANGUL SYLLABLE SIL}) missing from current font.\n",
            "  fig.canvas.print_figure(bytes_io, **kw)\n",
            "/usr/local/lib/python3.10/dist-packages/IPython/core/pylabtools.py:151: UserWarning: Glyph 51228 (\\N{HANGUL SYLLABLE JE}) missing from current font.\n",
            "  fig.canvas.print_figure(bytes_io, **kw)\n",
            "/usr/local/lib/python3.10/dist-packages/IPython/core/pylabtools.py:151: UserWarning: Glyph 51221 (\\N{HANGUL SYLLABLE JEONG}) missing from current font.\n",
            "  fig.canvas.print_figure(bytes_io, **kw)\n",
            "/usr/local/lib/python3.10/dist-packages/IPython/core/pylabtools.py:151: UserWarning: Glyph 54869 (\\N{HANGUL SYLLABLE HWAG}) missing from current font.\n",
            "  fig.canvas.print_figure(bytes_io, **kw)\n",
            "/usr/local/lib/python3.10/dist-packages/IPython/core/pylabtools.py:151: UserWarning: Glyph 54620 (\\N{HANGUL SYLLABLE HAN}) missing from current font.\n",
            "  fig.canvas.print_figure(bytes_io, **kw)\n",
            "/usr/local/lib/python3.10/dist-packages/IPython/core/pylabtools.py:151: UserWarning: Glyph 49440 (\\N{HANGUL SYLLABLE SEON}) missing from current font.\n",
            "  fig.canvas.print_figure(bytes_io, **kw)\n"
          ]
        },
        {
          "output_type": "display_data",
          "data": {
            "text/plain": [
              "<Figure size 1000x600 with 1 Axes>"
            ],
            "image/png": "[encoded data removed]"
          },
          "metadata": {}
        }
      ]
    },
    {
      "cell_type": "code",
      "source": [
        "# 가중치 출력\n",
        "print(\"최종 입력층에서 은닉층으로의 가중치 (w1):\")\n",
        "print(w1)"
      ],
      "metadata": {
        "colab": {
          "base_uri": "https://localhost:8080/"
        },
        "id": "VOgbB2a8sJ5x",
        "outputId": "05874945-bc23-4012-a9b3-46ec46a2f347"
      },
      "execution_count": null,
      "outputs": [
        {
          "output_type": "stream",
          "name": "stdout",
          "text": [
            "최종 입력층에서 은닉층으로의 가중치 (w1):\n",
            "[[ 0.42690786  0.94478207  0.69737602  0.64876701  0.16747842  0.16150398\n",
            "   0.11080717  0.83643404  0.58375251  0.69411228]\n",
            " [-0.0163536   0.97677634  0.84690737  0.21183868  0.15607662  0.16453579\n",
            "   0.18038906  0.53217402  0.42340761  0.30048973]\n",
            " [ 0.41855523  0.1682231   0.39787085  0.26552715  0.3628432   0.71945731\n",
            "  -0.17893049  0.59998566  0.60327696  0.10130629]\n",
            " [ 0.4157451   0.19832358  0.16642824  0.84419371  0.87676488  0.74588878\n",
            "  -0.10525896  0.18355918  0.6983928   0.49465614]\n",
            " [ 0.01783233  0.50235797  0.09826359  0.88745933  0.21527383  0.64784048\n",
            "   0.16345225  0.53884673  0.54951102  0.20844596]\n",
            " [ 0.98972727  0.77126889  0.93394135  0.89543826  0.58880941  0.91531885\n",
            "   0.0600453   0.19615136  0.0369689   0.32878156]\n",
            " [ 0.36151268  0.27591941  0.84857281  0.35157917  0.28197646  0.54822361\n",
            "   0.08838592  0.81028272  0.07982388  0.98955239]]\n"
          ]
        }
      ]
    },
    {
      "cell_type": "code",
      "source": [
        "# 평가 지표 출력\n",
        "mse = mean_squared_error(y_test, y_pred_test)\n",
        "r2 = r2_score(y_test, y_pred_test)\n",
        "print(f'Mean Squared Error: {mse:.4f}')\n",
        "print(f'R^2 Score: {r2:.4f}')"
      ],
      "metadata": {
        "colab": {
          "base_uri": "https://localhost:8080/"
        },
        "id": "-OVH3OTPcDQE",
        "outputId": "e21de135-eddb-44f8-fe8a-f3e7614e3a2c"
      },
      "execution_count": null,
      "outputs": [
        {
          "output_type": "stream",
          "name": "stdout",
          "text": [
            "Mean Squared Error: 0.0203\n",
            "R^2 Score: 0.2180\n"
          ]
        }
      ]
    },
    {
      "cell_type": "code",
      "source": [
        "# 다음 연도 출산율 예측\n",
        "next_year_data = np.array([[45000, 37000, 22000, 20000, 3000, 61.0, 3.0]])\n",
        "z1_next = np.dot(next_year_data, w1) + b1\n",
        "h_next = 1 / (1 + np.exp(-z1_next))\n",
        "next_year_prediction = np.dot(h_next, w2) + b2\n",
        "print(f'예상 다음 연도 출산율: {next_year_prediction[0][0]:.4f}')"
      ],
      "metadata": {
        "colab": {
          "base_uri": "https://localhost:8080/"
        },
        "id": "wwBjqo9pcIl3",
        "outputId": "5f4e3cf7-5b76-47d4-8421-8034472a7bea"
      },
      "execution_count": null,
      "outputs": [
        {
          "output_type": "stream",
          "name": "stdout",
          "text": [
            "예상 다음 연도 출산율: 1.1022\n"
          ]
        }
      ]
    }
  ],
  "metadata": {
    "colab": {
      "provenance": [],
      "include_colab_link": true
    },
    "kernelspec": {
      "display_name": "Python 3",
      "name": "python3"
    },
    "language_info": {
      "name": "python"
    }
  },
  "nbformat": 4,
  "nbformat_minor": 0
}
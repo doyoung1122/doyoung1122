{
  "nbformat": 4,
  "nbformat_minor": 0,
  "metadata": {
    "colab": {
      "provenance": [],
      "include_colab_link": true
    },
    "kernelspec": {
      "name": "python3",
      "display_name": "Python 3"
    },
    "language_info": {
      "name": "python"
    }
  },
  "cells": [
    {
      "cell_type": "markdown",
      "metadata": {
        "id": "view-in-github",
        "colab_type": "text"
      },
      "source": [
        "<a href=\"https://colab.research.google.com/github/doyoung1122/24-2/blob/Mathematical_Statistics1/%EC%88%98%EB%A6%AC%ED%86%B5%EA%B3%84%ED%95%99_GP_upload.ipynb\" target=\"_parent\"><img src=\"https://colab.research.google.com/assets/colab-badge.svg\" alt=\"Open In Colab\"/></a>"
      ]
    },
    {
      "cell_type": "code",
      "execution_count": null,
      "metadata": {
        "id": "XGFJ85DRvrXc"
      },
      "outputs": [],
      "source": [
        "from math import e, sqrt\n",
        "import numpy as np\n",
        "from numpy import matmul as mm\n",
        "\n",
        "import matplotlib.pyplot as plt"
      ]
    },
    {
      "cell_type": "code",
      "source": [
        "x1=1\n",
        "x2=2\n",
        "\n",
        "y1=1\n",
        "y2=2\n",
        "\n",
        "\n",
        "x3=1.5\n",
        "\n",
        "sigma1, sigma2 = 0, 0 # no obs. noise"
      ],
      "metadata": {
        "id": "zeDJa8CGvtfb"
      },
      "execution_count": null,
      "outputs": []
    },
    {
      "cell_type": "code",
      "source": [
        "kernel = lambda i,j : (i*j+1)**4\n",
        "#kernel = lambda i,j : e**(-(i-j)**2)"
      ],
      "metadata": {
        "id": "LeZnmA9oxBdx"
      },
      "execution_count": null,
      "outputs": []
    },
    {
      "cell_type": "code",
      "source": [
        "k_vec=np.array([kernel(x1,x3), kernel(x2,x3)])\n",
        "K =np.array([[kernel(x1,x1),kernel(x1,x2)],[kernel(x2,x1),kernel(x2,x2)]])\n",
        "K_inv = np.linalg.inv(K)"
      ],
      "metadata": {
        "id": "dGB7ICqPvz0H"
      },
      "execution_count": null,
      "outputs": []
    },
    {
      "cell_type": "code",
      "source": [
        "K"
      ],
      "metadata": {
        "id": "5La-oG7Q42y6"
      },
      "execution_count": null,
      "outputs": []
    },
    {
      "cell_type": "code",
      "source": [
        "K_inv"
      ],
      "metadata": {
        "id": "Gbr3xaqI29pj"
      },
      "execution_count": null,
      "outputs": []
    },
    {
      "cell_type": "code",
      "source": [
        "print(\"Mean\", mm(mm(k_vec,K_inv), np.array([y1,y2]).T))"
      ],
      "metadata": {
        "id": "7KtxIR_Wxkry"
      },
      "execution_count": null,
      "outputs": []
    },
    {
      "cell_type": "code",
      "source": [
        "print(\"Std\", kernel(x3,x3) - mm(k_vec, mm(K_inv, k_vec.T)))"
      ],
      "metadata": {
        "id": "WNyeKeVZwE9Y"
      },
      "execution_count": null,
      "outputs": []
    },
    {
      "cell_type": "code",
      "source": [
        "def GP(x):\n",
        "  k_vec=np.array([kernel(x1,x), kernel(x2,x)])\n",
        "\n",
        "  mean = mm(mm(k_vec,K_inv), np.array([y1,y2]).T)\n",
        "  var = np.abs(kernel(x,x) - mm(k_vec, mm(K_inv, k_vec.T)))\n",
        "  return [mean, sqrt(var)]"
      ],
      "metadata": {
        "id": "3yiHQYQCzdf4"
      },
      "execution_count": null,
      "outputs": []
    },
    {
      "cell_type": "code",
      "source": [
        "X= np.linspace(-0.5,2.5,100)\n",
        "Y_m=np.array([GP(x)[0] for x in X])\n",
        "Y_std=np.array([GP(x)[1] for x in X])"
      ],
      "metadata": {
        "id": "Ph6b8nOe6dh3"
      },
      "execution_count": null,
      "outputs": []
    },
    {
      "cell_type": "code",
      "source": [
        "plt.plot(X,Y_m)\n",
        "plt.plot([x1,x2], [y1,y2], 'ro', label='Obs. data')\n",
        "plt.fill_between(X, Y_m - Y_std, Y_m + Y_std, alpha=0.5, label='GP result')\n",
        "plt.legend(loc=2)\n",
        "plt.show()"
      ],
      "metadata": {
        "id": "1E-J_IHx6eg7"
      },
      "execution_count": null,
      "outputs": []
    },
    {
      "cell_type": "code",
      "source": [],
      "metadata": {
        "id": "WzZjyQi-8yHv"
      },
      "execution_count": null,
      "outputs": []
    }
  ]
}
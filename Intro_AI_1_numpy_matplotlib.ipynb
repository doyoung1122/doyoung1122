{
  "nbformat": 4,
  "nbformat_minor": 0,
  "metadata": {
    "colab": {
      "provenance": [],
      "include_colab_link": true
    },
    "kernelspec": {
      "name": "python3",
      "display_name": "Python 3"
    },
    "language_info": {
      "name": "python"
    }
  },
  "cells": [
    {
      "cell_type": "markdown",
      "metadata": {
        "id": "view-in-github",
        "colab_type": "text"
      },
      "source": [
        "<a href=\"https://colab.research.google.com/github/doyoung1122/24-2/blob/Introduction-of-A.I/Intro_AI_1_numpy_matplotlib.ipynb\" target=\"_parent\"><img src=\"https://colab.research.google.com/assets/colab-badge.svg\" alt=\"Open In Colab\"/></a>"
      ]
    },
    {
      "cell_type": "markdown",
      "source": [
        ": # is a comment!\n",
        "\n",
        ": Comments allow you to add explanations to the code or temporarily disable specific lines of code.\n",
        "\n",
        ":Comment는 특정 라인을 비활성화하거나 코드에 대한 부연설명을 추가할 때 사용.\n",
        "\n",
        ": Any text following # is ignored by the Python interpreter and does not execute.\n",
        "\n",
        ": #뒤에 어떤 코드던 파이썬이 안읽고 넘어감."
      ],
      "metadata": {
        "id": "DkGbsLdn3U2-"
      }
    },
    {
      "cell_type": "markdown",
      "source": [
        "\"import .. as ..\" is used to import a module and give it an alias (abbreviation).\n",
        "\n",
        "import는 (이미 설치되어있는) 모듈등을 가져오고, 별명 (alias) (주로 줄임말)을 지정\n",
        "\n",
        "\n",
        "Alias can make your code cleaner and easier to read, especially when working with modules that have long names.\n",
        "\n",
        "별명-> 좀 더 깔끔한 코드...\n",
        "\n"
      ],
      "metadata": {
        "id": "tILgyUqG3wcm"
      }
    },
    {
      "cell_type": "markdown",
      "source": [
        "Basic linear algebra on Python: Numpy"
      ],
      "metadata": {
        "id": "WVpf4yGg26SG"
      }
    },
    {
      "cell_type": "code",
      "source": [
        "import numpy as np\n",
        "# scientific/numerical computing package for Python\n",
        "# 과학계산/수치해석 툴 기능들을 제공하는 파이썬 패키지"
      ],
      "metadata": {
        "id": "o9rSofPDLN6s"
      },
      "execution_count": 1,
      "outputs": []
    },
    {
      "cell_type": "code",
      "source": [
        "# Define vector variable a using numpy package\n",
        "# numpy 패키지를 이용해서 vector 변수 a를 정의.\n",
        "a = np.array([1,2,3])\n",
        "\n",
        "# Define a real number b\n",
        "# 실수 b 정의하기\n",
        "\n",
        "b = 7\n",
        "\n",
        "# Various way to print your variables....\n",
        "# 변수들을 출력하기 위한 다양한 방법...\n",
        "\n",
        "print(a)\n",
        "print(a,b)\n",
        "print(\"a:{}, b:{}\".format(a,b))"
      ],
      "metadata": {
        "colab": {
          "base_uri": "https://localhost:8080/"
        },
        "id": "HcqFLPZs1K6V",
        "outputId": "745dbf9d-20e0-4a59-ffdb-680dff2cfcb1"
      },
      "execution_count": null,
      "outputs": [
        {
          "output_type": "stream",
          "name": "stdout",
          "text": [
            "[1 2 3]\n",
            "[1 2 3] 7\n",
            "a:[1 2 3], b:7\n"
          ]
        }
      ]
    },
    {
      "cell_type": "code",
      "source": [
        "print(a[0], a[1])"
      ],
      "metadata": {
        "colab": {
          "base_uri": "https://localhost:8080/"
        },
        "id": "RKYu4ZSNAmBr",
        "outputId": "fd619cfb-3a15-4caa-9104-3f9b89ff33e9"
      },
      "execution_count": null,
      "outputs": [
        {
          "output_type": "stream",
          "name": "stdout",
          "text": [
            "1 2\n"
          ]
        }
      ]
    },
    {
      "cell_type": "code",
      "source": [
        "# real number times vector = ?\n",
        "print(a*b)"
      ],
      "metadata": {
        "colab": {
          "base_uri": "https://localhost:8080/"
        },
        "id": "LFF1y0ut1K88",
        "outputId": "6ef8429b-1c18-40fd-b1f5-4423764f7818"
      },
      "execution_count": null,
      "outputs": [
        {
          "output_type": "stream",
          "name": "stdout",
          "text": [
            "[ 7 14 21]\n"
          ]
        }
      ]
    },
    {
      "cell_type": "code",
      "source": [
        "# real number + vector = not defined ?\n",
        "print(a+b)"
      ],
      "metadata": {
        "colab": {
          "base_uri": "https://localhost:8080/"
        },
        "id": "3wKn-rAi2IUs",
        "outputId": "c8dad5e7-d574-4f18-ce57-99d196808ea5"
      },
      "execution_count": null,
      "outputs": [
        {
          "output_type": "stream",
          "name": "stdout",
          "text": [
            "[ 8  9 10]\n"
          ]
        }
      ]
    },
    {
      "cell_type": "code",
      "source": [
        "a = np.array([1,2,3])\n",
        "b = np.array([3,2,1])"
      ],
      "metadata": {
        "id": "TbhZFypc2lvO"
      },
      "execution_count": null,
      "outputs": []
    },
    {
      "cell_type": "code",
      "source": [
        "print(a+b)"
      ],
      "metadata": {
        "colab": {
          "base_uri": "https://localhost:8080/"
        },
        "id": "mw_mJ26b2egw",
        "outputId": "b1eef8c3-b2d8-474c-fbf7-5e65ba93578e"
      },
      "execution_count": null,
      "outputs": [
        {
          "output_type": "stream",
          "name": "stdout",
          "text": [
            "[4 4 4]\n"
          ]
        }
      ]
    },
    {
      "cell_type": "code",
      "source": [
        "print(a*b)"
      ],
      "metadata": {
        "colab": {
          "base_uri": "https://localhost:8080/"
        },
        "id": "qnM0vmdW2sxY",
        "outputId": "b286384a-ff19-4fdf-9863-4833fa5c0144"
      },
      "execution_count": null,
      "outputs": [
        {
          "output_type": "stream",
          "name": "stdout",
          "text": [
            "[3 4 3]\n"
          ]
        }
      ]
    },
    {
      "cell_type": "code",
      "source": [
        "# so... no way to calculate an inner product?\n",
        "print(np.sum(a*b))\n",
        "\n",
        "print(np.dot(a,b))"
      ],
      "metadata": {
        "colab": {
          "base_uri": "https://localhost:8080/"
        },
        "id": "1zVKCjG32xOI",
        "outputId": "4fc6736e-348f-4f01-c730-f61a59b6626e"
      },
      "execution_count": null,
      "outputs": [
        {
          "output_type": "stream",
          "name": "stdout",
          "text": [
            "10\n",
            "10\n"
          ]
        }
      ]
    },
    {
      "cell_type": "code",
      "source": [
        "#you can also define a matrix\n",
        "A = np.array([[1,2,3],[4,5,6]])\n",
        "print(A)"
      ],
      "metadata": {
        "colab": {
          "base_uri": "https://localhost:8080/"
        },
        "id": "YUxnafHJ4oN5",
        "outputId": "9a095ef9-e812-4c09-e40a-858486002307"
      },
      "execution_count": null,
      "outputs": [
        {
          "output_type": "stream",
          "name": "stdout",
          "text": [
            "[[1 2 3]\n",
            " [4 5 6]]\n"
          ]
        }
      ]
    },
    {
      "cell_type": "code",
      "source": [
        "print(3*A)"
      ],
      "metadata": {
        "colab": {
          "base_uri": "https://localhost:8080/"
        },
        "id": "AE0dUh4t5KRk",
        "outputId": "0ee6f743-4a9b-4839-dcb8-e791e7917e81"
      },
      "execution_count": null,
      "outputs": [
        {
          "output_type": "stream",
          "name": "stdout",
          "text": [
            "[[ 3  6  9]\n",
            " [12 15 18]]\n"
          ]
        }
      ]
    },
    {
      "cell_type": "code",
      "source": [
        "print(3+A)"
      ],
      "metadata": {
        "colab": {
          "base_uri": "https://localhost:8080/"
        },
        "id": "Ow3mR71P5OC9",
        "outputId": "73862054-1b99-4938-a724-cebfdac28520"
      },
      "execution_count": null,
      "outputs": [
        {
          "output_type": "stream",
          "name": "stdout",
          "text": [
            "[[4 5 6]\n",
            " [7 8 9]]\n"
          ]
        }
      ]
    },
    {
      "cell_type": "code",
      "source": [
        "B = np.array([[1,2,3],[-4,-5,-6]])\n",
        "print(A+B)"
      ],
      "metadata": {
        "colab": {
          "base_uri": "https://localhost:8080/"
        },
        "id": "pg95KMjv4uAY",
        "outputId": "f15fe099-b6b3-4be7-b2b7-f84369b15549"
      },
      "execution_count": null,
      "outputs": [
        {
          "output_type": "stream",
          "name": "stdout",
          "text": [
            "[[2 4 6]\n",
            " [0 0 0]]\n"
          ]
        }
      ]
    },
    {
      "cell_type": "code",
      "source": [
        "# Multiplication? = component-wise!\n",
        "print(A*B)"
      ],
      "metadata": {
        "colab": {
          "base_uri": "https://localhost:8080/"
        },
        "id": "V3MEChoQ42Bd",
        "outputId": "7a8f1333-9554-4eb9-ba75-4625f125e38d"
      },
      "execution_count": null,
      "outputs": [
        {
          "output_type": "stream",
          "name": "stdout",
          "text": [
            "[[  1   4   9]\n",
            " [-16 -25 -36]]\n"
          ]
        }
      ]
    },
    {
      "cell_type": "code",
      "source": [
        "# we can calculate matrix multiplication because of the shape mismatching...\n",
        "np.matmul(A,B)"
      ],
      "metadata": {
        "colab": {
          "base_uri": "https://localhost:8080/",
          "height": 162
        },
        "id": "Ad9yOAF34_eD",
        "outputId": "3eae1441-9606-4d13-a5b0-3c05edea71fb"
      },
      "execution_count": null,
      "outputs": [
        {
          "output_type": "error",
          "ename": "ValueError",
          "evalue": "matmul: Input operand 1 has a mismatch in its core dimension 0, with gufunc signature (n?,k),(k,m?)->(n?,m?) (size 2 is different from 3)",
          "traceback": [
            "\u001b[0;31m---------------------------------------------------------------------------\u001b[0m",
            "\u001b[0;31mValueError\u001b[0m                                Traceback (most recent call last)",
            "\u001b[0;32m<ipython-input-28-ed92e353882c>\u001b[0m in \u001b[0;36m<cell line: 1>\u001b[0;34m()\u001b[0m\n\u001b[0;32m----> 1\u001b[0;31m \u001b[0mnp\u001b[0m\u001b[0;34m.\u001b[0m\u001b[0mmatmul\u001b[0m\u001b[0;34m(\u001b[0m\u001b[0mA\u001b[0m\u001b[0;34m,\u001b[0m\u001b[0mB\u001b[0m\u001b[0;34m)\u001b[0m\u001b[0;34m\u001b[0m\u001b[0;34m\u001b[0m\u001b[0m\n\u001b[0m",
            "\u001b[0;31mValueError\u001b[0m: matmul: Input operand 1 has a mismatch in its core dimension 0, with gufunc signature (n?,k),(k,m?)->(n?,m?) (size 2 is different from 3)"
          ]
        }
      ]
    },
    {
      "cell_type": "markdown",
      "source": [
        "Random number generation using np.random"
      ],
      "metadata": {
        "id": "dJivDJOG4PGm"
      }
    },
    {
      "cell_type": "code",
      "source": [
        "# Standard normal distribution N(0,1) = np.random.randn(n_data points)\n",
        "norm_sample_1 = np.random.randn(3)\n",
        "print(norm_sample_1)"
      ],
      "metadata": {
        "colab": {
          "base_uri": "https://localhost:8080/"
        },
        "id": "oRJxNuFa4Oow",
        "outputId": "5169172a-bbad-4c02-bcf1-8069265f7c71"
      },
      "execution_count": null,
      "outputs": [
        {
          "output_type": "stream",
          "name": "stdout",
          "text": [
            "[ 0.2519878   1.74445999 -0.95810017]\n"
          ]
        }
      ]
    },
    {
      "cell_type": "code",
      "source": [
        "norm_sample_2 = np.random.randn(1,3)\n",
        "print(norm_sample_2)"
      ],
      "metadata": {
        "colab": {
          "base_uri": "https://localhost:8080/"
        },
        "id": "AcRh8bG84aVn",
        "outputId": "01313cf2-b5c2-4507-d6f1-8c13d73500e1"
      },
      "execution_count": null,
      "outputs": [
        {
          "output_type": "stream",
          "name": "stdout",
          "text": [
            "[[ 1.82466896 -1.67994538 -1.11440892]]\n"
          ]
        }
      ]
    },
    {
      "cell_type": "code",
      "source": [
        "# The shapes are different.\n",
        "print(norm_sample_1.shape)\n",
        "print(norm_sample_2.shape)"
      ],
      "metadata": {
        "colab": {
          "base_uri": "https://localhost:8080/"
        },
        "id": "TWCbsS4h5lY8",
        "outputId": "6fb71ce9-1c6b-4f36-f8d1-c1f627803834"
      },
      "execution_count": null,
      "outputs": [
        {
          "output_type": "stream",
          "name": "stdout",
          "text": [
            "(3,)\n",
            "(1, 3)\n"
          ]
        }
      ]
    },
    {
      "cell_type": "code",
      "source": [
        "# == is the equality operator.\n",
        "#It is used to check if two values are equal.\n",
        "#If the values on both sides of == are the same, it returns True; otherwise, it returns False.\n",
        "print(1==1)\n",
        "print(1==3)"
      ],
      "metadata": {
        "colab": {
          "base_uri": "https://localhost:8080/"
        },
        "id": "vuhsF9gm5vns",
        "outputId": "61a7f1d5-c7a8-405c-d8d2-d3daaedfde27"
      },
      "execution_count": null,
      "outputs": [
        {
          "output_type": "stream",
          "name": "stdout",
          "text": [
            "True\n",
            "False\n"
          ]
        }
      ]
    },
    {
      "cell_type": "code",
      "source": [
        "print(norm_sample_1.shape == norm_sample_2.shape)"
      ],
      "metadata": {
        "colab": {
          "base_uri": "https://localhost:8080/"
        },
        "id": "AIuFemsL51y0",
        "outputId": "000fe15f-9c2c-4fe3-835e-433c07e839b2"
      },
      "execution_count": null,
      "outputs": [
        {
          "output_type": "stream",
          "name": "stdout",
          "text": [
            "False\n"
          ]
        }
      ]
    },
    {
      "cell_type": "code",
      "source": [
        "norm_sample_3 = np.random.randn(2,3)\n",
        "print(norm_sample_3)"
      ],
      "metadata": {
        "colab": {
          "base_uri": "https://localhost:8080/"
        },
        "id": "vXAabdgH77Tf",
        "outputId": "3253194d-c50f-415e-9ef4-a2daa30304b5"
      },
      "execution_count": null,
      "outputs": [
        {
          "output_type": "stream",
          "name": "stdout",
          "text": [
            "[[ 0.05915103 -0.31570128  0.47043213]\n",
            " [ 0.7763924  -1.0646236  -0.18260894]]\n"
          ]
        }
      ]
    },
    {
      "cell_type": "code",
      "source": [
        "# np.random.randn: package.module.function(class)\n",
        "# The rules are not formalized\n",
        "# That is one of the difficulties in Python language -> Help GPT!"
      ],
      "metadata": {
        "id": "uFr38j1a8JIK"
      },
      "execution_count": null,
      "outputs": []
    },
    {
      "cell_type": "code",
      "source": [
        "from numpy.random import randn as normal"
      ],
      "metadata": {
        "id": "jmUcNXS28dWS"
      },
      "execution_count": null,
      "outputs": []
    },
    {
      "cell_type": "code",
      "source": [
        "normal(3,2)"
      ],
      "metadata": {
        "colab": {
          "base_uri": "https://localhost:8080/"
        },
        "id": "JnLL9YLR8p-P",
        "outputId": "33cf31eb-72f5-4061-c261-ceb66aea86c2"
      },
      "execution_count": null,
      "outputs": [
        {
          "output_type": "execute_result",
          "data": {
            "text/plain": [
              "array([[ 0.21144786, -1.33272526],\n",
              "       [-0.20756993, -0.00782922],\n",
              "       [ 0.36526624, -0.40002798]])"
            ]
          },
          "metadata": {},
          "execution_count": 67
        }
      ]
    },
    {
      "cell_type": "code",
      "source": [
        "from numpy import exp"
      ],
      "metadata": {
        "id": "abr1q8eK8hw2"
      },
      "execution_count": null,
      "outputs": []
    },
    {
      "cell_type": "code",
      "source": [
        "exp(1)"
      ],
      "metadata": {
        "colab": {
          "base_uri": "https://localhost:8080/"
        },
        "id": "BAELp50y8n-M",
        "outputId": "4350669b-cf12-4df0-e484-c9524dd8c59c"
      },
      "execution_count": null,
      "outputs": [
        {
          "output_type": "execute_result",
          "data": {
            "text/plain": [
              "2.718281828459045"
            ]
          },
          "metadata": {},
          "execution_count": 66
        }
      ]
    },
    {
      "cell_type": "markdown",
      "source": [
        "Visualization data on Python: Matplotlib"
      ],
      "metadata": {
        "id": "CU3z2aZl5keo"
      }
    },
    {
      "cell_type": "code",
      "source": [
        "import matplotlib.pyplot as plt\n",
        "# data visualization (graph, histogram...) package\n",
        "# 데이터 시각화 (그래프, 히스토그램 ....)"
      ],
      "metadata": {
        "id": "CYqdfZTQBURa"
      },
      "execution_count": null,
      "outputs": []
    },
    {
      "cell_type": "code",
      "source": [
        "#linspace(a,b,n): NumPy function that generates numbers evenly spaced over a specified range.\n",
        "#This code creates n values that are evenly spaced between a and b.\n",
        "data_x = np.linspace(-10,10,10)"
      ],
      "metadata": {
        "id": "_TVHvQ7oDHyd"
      },
      "execution_count": null,
      "outputs": []
    },
    {
      "cell_type": "code",
      "source": [
        "#Two type of (manual) functions...\n",
        "y = lambda x: x**2\n",
        "#lambda: instant function\n",
        "\n",
        "def square(x):\n",
        "  return x**2"
      ],
      "metadata": {
        "id": "hOGr6wnFBVI8"
      },
      "execution_count": null,
      "outputs": []
    },
    {
      "cell_type": "code",
      "source": [
        "square(data_x)"
      ],
      "metadata": {
        "colab": {
          "base_uri": "https://localhost:8080/"
        },
        "id": "LKk0sTRpBnn_",
        "outputId": "628d0d9d-88b1-47a6-affc-ff91ebf95f7c"
      },
      "execution_count": null,
      "outputs": [
        {
          "output_type": "execute_result",
          "data": {
            "text/plain": [
              "array([100.        ,  60.49382716,  30.86419753,  11.11111111,\n",
              "         1.2345679 ,   1.2345679 ,  11.11111111,  30.86419753,\n",
              "        60.49382716, 100.        ])"
            ]
          },
          "metadata": {},
          "execution_count": 94
        }
      ]
    },
    {
      "cell_type": "code",
      "source": [
        "plt.plot(data_x, y(data_x))\n",
        "plt.show()"
      ],
      "metadata": {
        "colab": {
          "base_uri": "https://localhost:8080/",
          "height": 430
        },
        "id": "tr1n7XViBVLS",
        "outputId": "ba26104a-e335-435b-d596-2d222d7feaac"
      },
      "execution_count": null,
      "outputs": [
        {
          "output_type": "display_data",
          "data": {
            "text/plain": [
              "<Figure size 640x480 with 1 Axes>"
            ],
            "image/png": "[encoded data removed]"
          },
          "metadata": {}
        }
      ]
    },
    {
      "cell_type": "code",
      "source": [
        "# If you want only sample points...\n",
        "plt.plot(data_x, y(data_x), marker='o', linestyle = 'None')\n",
        "plt.show()"
      ],
      "metadata": {
        "colab": {
          "base_uri": "https://localhost:8080/",
          "height": 430
        },
        "id": "dkiSHZdJBVN0",
        "outputId": "7648a2c6-a7f0-45c1-aaa4-ab02a3c41aed"
      },
      "execution_count": null,
      "outputs": [
        {
          "output_type": "display_data",
          "data": {
            "text/plain": [
              "<Figure size 640x480 with 1 Axes>"
            ],
            "image/png": "[encoded data removed]"
          },
          "metadata": {}
        }
      ]
    },
    {
      "cell_type": "code",
      "source": [
        "# we give a specific name for this trajectory\n",
        "plt.plot(data_x, y(data_x), marker='o', linestyle = 'None' ,label = 'name1')\n",
        "plt.legend()\n",
        "plt.show()"
      ],
      "metadata": {
        "colab": {
          "base_uri": "https://localhost:8080/",
          "height": 430
        },
        "id": "BBgLGqnoCbHV",
        "outputId": "e7ec8f62-9aa0-4fd9-da19-dcd289cc9d1b"
      },
      "execution_count": null,
      "outputs": [
        {
          "output_type": "display_data",
          "data": {
            "text/plain": [
              "<Figure size 640x480 with 1 Axes>"
            ],
            "image/png": "[encoded data removed]"
          },
          "metadata": {}
        }
      ]
    },
    {
      "cell_type": "code",
      "source": [
        "# How about multiple trajectories?\n",
        "plt.plot(data_x, y(data_x), marker='o', linestyle = 'None' ,label = 'name1')\n",
        "plt.plot(data_x, 10-y(data_x), color = 'red', label = 'name2')\n",
        "plt.legend()\n",
        "plt.show()"
      ],
      "metadata": {
        "colab": {
          "base_uri": "https://localhost:8080/",
          "height": 430
        },
        "id": "B1zd6iTACi_v",
        "outputId": "45722a2d-f208-4a5b-af3a-5833ec894408"
      },
      "execution_count": null,
      "outputs": [
        {
          "output_type": "display_data",
          "data": {
            "text/plain": [
              "<Figure size 640x480 with 1 Axes>"
            ],
            "image/png": "[encoded data removed]"
          },
          "metadata": {}
        }
      ]
    },
    {
      "cell_type": "code",
      "source": [
        "data = np.random.randn(100)"
      ],
      "metadata": {
        "id": "RtZXqurlCxsc"
      },
      "execution_count": null,
      "outputs": []
    },
    {
      "cell_type": "code",
      "source": [
        "plt.hist(data, bins=10)\n",
        "plt.xlabel('value')\n",
        "plt.ylabel('frequency') # number of sample points within each value\n",
        "plt.show()"
      ],
      "metadata": {
        "colab": {
          "base_uri": "https://localhost:8080/",
          "height": 452
        },
        "id": "Mh2OvvjGDi6T",
        "outputId": "f6fb2225-9419-4771-d42f-c86525b6f4e7"
      },
      "execution_count": null,
      "outputs": [
        {
          "output_type": "display_data",
          "data": {
            "text/plain": [
              "<Figure size 640x480 with 1 Axes>"
            ],
            "image/png": "[encoded data removed]"
          },
          "metadata": {}
        }
      ]
    },
    {
      "cell_type": "code",
      "source": [
        "plt.hist(data, bins=10, density=True)\n",
        "plt.xlabel('value')\n",
        "plt.ylabel('frequency (Norm)') # number of sample points within each value / total number of samples\n",
        "plt.show()"
      ],
      "metadata": {
        "colab": {
          "base_uri": "https://localhost:8080/",
          "height": 449
        },
        "id": "Yh1EU5V_D1HO",
        "outputId": "48aeac05-1761-44c4-99fd-07259fbffc14"
      },
      "execution_count": null,
      "outputs": [
        {
          "output_type": "display_data",
          "data": {
            "text/plain": [
              "<Figure size 640x480 with 1 Axes>"
            ],
            "image/png": "[encoded data removed]"
          },
          "metadata": {}
        }
      ]
    },
    {
      "cell_type": "markdown",
      "source": [],
      "metadata": {
        "id": "osXsrbQH5kiy"
      }
    },
    {
      "cell_type": "markdown",
      "source": [],
      "metadata": {
        "id": "qTs0MmUi5kli"
      }
    }
  ]
}
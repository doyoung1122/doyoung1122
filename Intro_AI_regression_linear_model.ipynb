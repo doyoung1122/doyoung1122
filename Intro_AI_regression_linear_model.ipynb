{
  "nbformat": 4,
  "nbformat_minor": 0,
  "metadata": {
    "colab": {
      "provenance": [],
      "include_colab_link": true
    },
    "kernelspec": {
      "name": "python3",
      "display_name": "Python 3"
    },
    "language_info": {
      "name": "python"
    }
  },
  "cells": [
    {
      "cell_type": "markdown",
      "metadata": {
        "id": "view-in-github",
        "colab_type": "text"
      },
      "source": [
        "<a href=\"https://colab.research.google.com/github/doyoung1122/24-2/blob/Introduction-of-A.I/Intro_AI_regression_linear_model.ipynb\" target=\"_parent\"><img src=\"https://colab.research.google.com/assets/colab-badge.svg\" alt=\"Open In Colab\"/></a>"
      ]
    },
    {
      "cell_type": "code",
      "execution_count": null,
      "metadata": {
        "id": "5Xz3fj6GBJ8c"
      },
      "outputs": [],
      "source": [
        "import matplotlib\n",
        "import numpy as np\n",
        "import matplotlib.pyplot as plt\n",
        "\n",
        "%matplotlib inline\n",
        "# Typical way to render matplotlib plots directly within the notebook cells.\n",
        "# This means that plots will appear right below the code cell that generates them,\n",
        "# without the need for explicitly calling plt.show()."
      ]
    },
    {
      "cell_type": "markdown",
      "source": [
        "diabetes (당뇨병) dataset: 442 diabetes patients\n",
        "\n",
        "Target value: a quantitative measure of disease progression one year after baseline ~ real numbers!\n",
        "\n",
        "\n",
        "\n",
        "https://www.kaggle.com/code/sgavlickgraham/predicting-diabetes\n",
        "\n",
        "https://scikit-learn.org/1.5/modules/generated/sklearn.datasets.load_diabetes.html"
      ],
      "metadata": {
        "id": "-h7_yUGBUqAn"
      }
    },
    {
      "cell_type": "code",
      "source": [
        "from sklearn.datasets import load_diabetes\n",
        "\n",
        "diabetes_data = load_diabetes()"
      ],
      "metadata": {
        "id": "e-0axXUmBWUL"
      },
      "execution_count": null,
      "outputs": []
    },
    {
      "cell_type": "code",
      "source": [
        "diabetes_data"
      ],
      "metadata": {
        "colab": {
          "base_uri": "https://localhost:8080/"
        },
        "id": "bAUqi9NXFVoF",
        "outputId": "ab0a9e5a-c902-429c-eac7-f7c664c39cb8"
      },
      "execution_count": null,
      "outputs": [
        {
          "output_type": "execute_result",
          "data": {
            "text/plain": [
              "{'data': array([[ 0.03807591,  0.05068012,  0.06169621, ..., -0.00259226,\n",
              "          0.01990749, -0.01764613],\n",
              "        [-0.00188202, -0.04464164, -0.05147406, ..., -0.03949338,\n",
              "         -0.06833155, -0.09220405],\n",
              "        [ 0.08529891,  0.05068012,  0.04445121, ..., -0.00259226,\n",
              "          0.00286131, -0.02593034],\n",
              "        ...,\n",
              "        [ 0.04170844,  0.05068012, -0.01590626, ..., -0.01107952,\n",
              "         -0.04688253,  0.01549073],\n",
              "        [-0.04547248, -0.04464164,  0.03906215, ...,  0.02655962,\n",
              "          0.04452873, -0.02593034],\n",
              "        [-0.04547248, -0.04464164, -0.0730303 , ..., -0.03949338,\n",
              "         -0.00422151,  0.00306441]]),\n",
              " 'target': array([151.,  75., 141., 206., 135.,  97., 138.,  63., 110., 310., 101.,\n",
              "         69., 179., 185., 118., 171., 166., 144.,  97., 168.,  68.,  49.,\n",
              "         68., 245., 184., 202., 137.,  85., 131., 283., 129.,  59., 341.,\n",
              "         87.,  65., 102., 265., 276., 252.,  90., 100.,  55.,  61.,  92.,\n",
              "        259.,  53., 190., 142.,  75., 142., 155., 225.,  59., 104., 182.,\n",
              "        128.,  52.,  37., 170., 170.,  61., 144.,  52., 128.,  71., 163.,\n",
              "        150.,  97., 160., 178.,  48., 270., 202., 111.,  85.,  42., 170.,\n",
              "        200., 252., 113., 143.,  51.,  52., 210.,  65., 141.,  55., 134.,\n",
              "         42., 111.,  98., 164.,  48.,  96.,  90., 162., 150., 279.,  92.,\n",
              "         83., 128., 102., 302., 198.,  95.,  53., 134., 144., 232.,  81.,\n",
              "        104.,  59., 246., 297., 258., 229., 275., 281., 179., 200., 200.,\n",
              "        173., 180.,  84., 121., 161.,  99., 109., 115., 268., 274., 158.,\n",
              "        107.,  83., 103., 272.,  85., 280., 336., 281., 118., 317., 235.,\n",
              "         60., 174., 259., 178., 128.,  96., 126., 288.,  88., 292.,  71.,\n",
              "        197., 186.,  25.,  84.,  96., 195.,  53., 217., 172., 131., 214.,\n",
              "         59.,  70., 220., 268., 152.,  47.,  74., 295., 101., 151., 127.,\n",
              "        237., 225.,  81., 151., 107.,  64., 138., 185., 265., 101., 137.,\n",
              "        143., 141.,  79., 292., 178.,  91., 116.,  86., 122.,  72., 129.,\n",
              "        142.,  90., 158.,  39., 196., 222., 277.,  99., 196., 202., 155.,\n",
              "         77., 191.,  70.,  73.,  49.,  65., 263., 248., 296., 214., 185.,\n",
              "         78.,  93., 252., 150.,  77., 208.,  77., 108., 160.,  53., 220.,\n",
              "        154., 259.,  90., 246., 124.,  67.,  72., 257., 262., 275., 177.,\n",
              "         71.,  47., 187., 125.,  78.,  51., 258., 215., 303., 243.,  91.,\n",
              "        150., 310., 153., 346.,  63.,  89.,  50.,  39., 103., 308., 116.,\n",
              "        145.,  74.,  45., 115., 264.,  87., 202., 127., 182., 241.,  66.,\n",
              "         94., 283.,  64., 102., 200., 265.,  94., 230., 181., 156., 233.,\n",
              "         60., 219.,  80.,  68., 332., 248.,  84., 200.,  55.,  85.,  89.,\n",
              "         31., 129.,  83., 275.,  65., 198., 236., 253., 124.,  44., 172.,\n",
              "        114., 142., 109., 180., 144., 163., 147.,  97., 220., 190., 109.,\n",
              "        191., 122., 230., 242., 248., 249., 192., 131., 237.,  78., 135.,\n",
              "        244., 199., 270., 164.,  72.,  96., 306.,  91., 214.,  95., 216.,\n",
              "        263., 178., 113., 200., 139., 139.,  88., 148.,  88., 243.,  71.,\n",
              "         77., 109., 272.,  60.,  54., 221.,  90., 311., 281., 182., 321.,\n",
              "         58., 262., 206., 233., 242., 123., 167.,  63., 197.,  71., 168.,\n",
              "        140., 217., 121., 235., 245.,  40.,  52., 104., 132.,  88.,  69.,\n",
              "        219.,  72., 201., 110.,  51., 277.,  63., 118.,  69., 273., 258.,\n",
              "         43., 198., 242., 232., 175.,  93., 168., 275., 293., 281.,  72.,\n",
              "        140., 189., 181., 209., 136., 261., 113., 131., 174., 257.,  55.,\n",
              "         84.,  42., 146., 212., 233.,  91., 111., 152., 120.,  67., 310.,\n",
              "         94., 183.,  66., 173.,  72.,  49.,  64.,  48., 178., 104., 132.,\n",
              "        220.,  57.]),\n",
              " 'frame': None,\n",
              " 'DESCR': '.. _diabetes_dataset:\\n\\nDiabetes dataset\\n----------------\\n\\nTen baseline variables, age, sex, body mass index, average blood\\npressure, and six blood serum measurements were obtained for each of n =\\n442 diabetes patients, as well as the response of interest, a\\nquantitative measure of disease progression one year after baseline.\\n\\n**Data Set Characteristics:**\\n\\n:Number of Instances: 442\\n\\n:Number of Attributes: First 10 columns are numeric predictive values\\n\\n:Target: Column 11 is a quantitative measure of disease progression one year after baseline\\n\\n:Attribute Information:\\n    - age     age in years\\n    - sex\\n    - bmi     body mass index\\n    - bp      average blood pressure\\n    - s1      tc, total serum cholesterol\\n    - s2      ldl, low-density lipoproteins\\n    - s3      hdl, high-density lipoproteins\\n    - s4      tch, total cholesterol / HDL\\n    - s5      ltg, possibly log of serum triglycerides level\\n    - s6      glu, blood sugar level\\n\\nNote: Each of these 10 feature variables have been mean centered and scaled by the standard deviation times the square root of `n_samples` (i.e. the sum of squares of each column totals 1).\\n\\nSource URL:\\nhttps://www4.stat.ncsu.edu/~boos/var.select/diabetes.html\\n\\nFor more information see:\\nBradley Efron, Trevor Hastie, Iain Johnstone and Robert Tibshirani (2004) \"Least Angle Regression,\" Annals of Statistics (with discussion), 407-499.\\n(https://web.stanford.edu/~hastie/Papers/LARS/LeastAngle_2002.pdf)\\n',\n",
              " 'feature_names': ['age',\n",
              "  'sex',\n",
              "  'bmi',\n",
              "  'bp',\n",
              "  's1',\n",
              "  's2',\n",
              "  's3',\n",
              "  's4',\n",
              "  's5',\n",
              "  's6'],\n",
              " 'data_filename': 'diabetes_data_raw.csv.gz',\n",
              " 'target_filename': 'diabetes_target.csv.gz',\n",
              " 'data_module': 'sklearn.datasets.data'}"
            ]
          },
          "metadata": {},
          "execution_count": 4
        }
      ]
    },
    {
      "cell_type": "code",
      "source": [
        "print(diabetes_data['feature_names'])"
      ],
      "metadata": {
        "id": "yzUZkukAS1r7",
        "colab": {
          "base_uri": "https://localhost:8080/"
        },
        "outputId": "d5cf986c-fa42-44ed-b54a-d80557f04bd2"
      },
      "execution_count": null,
      "outputs": [
        {
          "output_type": "stream",
          "name": "stdout",
          "text": [
            "['age', 'sex', 'bmi', 'bp', 's1', 's2', 's3', 's4', 's5', 's6']\n"
          ]
        }
      ]
    },
    {
      "cell_type": "markdown",
      "source": [
        "      - age     age in years\n",
        "      - sex\n",
        "      - bmi     body mass index\n",
        "      - bp      average blood pressure\n",
        "      - s1      tc, T-Cells (a type of white blood cells)\n",
        "      - s2      ldl, low-density lipoproteins\n",
        "      - s3      hdl, high-density lipoproteins\n",
        "      - s4      tch, thyroid stimulating hormone\n",
        "      - s5      ltg, lamotrigine\n",
        "      - s6      glu, blood sugar level\n",
        "\n",
        "Each of these 10 feature variables have been mean centered and scaled by the standard deviation times `n_samples` (i.e. the sum of squares of each column totals 1)."
      ],
      "metadata": {
        "id": "PTw35Ym-TZo1"
      }
    },
    {
      "cell_type": "code",
      "source": [
        "diabetes_data['data']"
      ],
      "metadata": {
        "colab": {
          "base_uri": "https://localhost:8080/"
        },
        "id": "dJeEHfCiGKVZ",
        "outputId": "6becf4a3-5883-4ea2-d4db-05c0002c0060"
      },
      "execution_count": null,
      "outputs": [
        {
          "output_type": "execute_result",
          "data": {
            "text/plain": [
              "array([[ 0.03807591,  0.05068012,  0.06169621, ..., -0.00259226,\n",
              "         0.01990749, -0.01764613],\n",
              "       [-0.00188202, -0.04464164, -0.05147406, ..., -0.03949338,\n",
              "        -0.06833155, -0.09220405],\n",
              "       [ 0.08529891,  0.05068012,  0.04445121, ..., -0.00259226,\n",
              "         0.00286131, -0.02593034],\n",
              "       ...,\n",
              "       [ 0.04170844,  0.05068012, -0.01590626, ..., -0.01107952,\n",
              "        -0.04688253,  0.01549073],\n",
              "       [-0.04547248, -0.04464164,  0.03906215, ...,  0.02655962,\n",
              "         0.04452873, -0.02593034],\n",
              "       [-0.04547248, -0.04464164, -0.0730303 , ..., -0.03949338,\n",
              "        -0.00422151,  0.00306441]])"
            ]
          },
          "metadata": {},
          "execution_count": 7
        }
      ]
    },
    {
      "cell_type": "code",
      "source": [
        "print(diabetes_data['data'].shape) # n_samples * n_features"
      ],
      "metadata": {
        "id": "3vkgJnxhB_AT",
        "colab": {
          "base_uri": "https://localhost:8080/"
        },
        "outputId": "bcc0ebc2-0fe1-4a92-fd3e-e1fdc876208c"
      },
      "execution_count": null,
      "outputs": [
        {
          "output_type": "stream",
          "name": "stdout",
          "text": [
            "(442, 10)\n"
          ]
        }
      ]
    },
    {
      "cell_type": "code",
      "source": [
        "diabetes_data['data'][0] # row\n",
        "\n",
        "# Every features are normalized! Z=(X-mu)/sigma"
      ],
      "metadata": {
        "id": "KJKxspurS6V-",
        "colab": {
          "base_uri": "https://localhost:8080/"
        },
        "outputId": "aa259ccf-4d55-4e96-e38d-49f93100165e"
      },
      "execution_count": null,
      "outputs": [
        {
          "output_type": "execute_result",
          "data": {
            "text/plain": [
              "array([ 0.03807591,  0.05068012,  0.06169621,  0.02187239, -0.0442235 ,\n",
              "       -0.03482076, -0.04340085, -0.00259226,  0.01990749, -0.01764613])"
            ]
          },
          "metadata": {},
          "execution_count": 8
        }
      ]
    },
    {
      "cell_type": "code",
      "source": [
        "A=np.array([[1,2,3],[4,5,6]])\n",
        "print(A)"
      ],
      "metadata": {
        "id": "nhy96NoQet6m",
        "colab": {
          "base_uri": "https://localhost:8080/"
        },
        "outputId": "121539ee-890f-4bfe-9ca2-77db4ecdffd1"
      },
      "execution_count": null,
      "outputs": [
        {
          "output_type": "stream",
          "name": "stdout",
          "text": [
            "[[1 2 3]\n",
            " [4 5 6]]\n"
          ]
        }
      ]
    },
    {
      "cell_type": "code",
      "source": [
        "A[1,2] # i-1,j-1 component"
      ],
      "metadata": {
        "id": "DAaZSn8pewAp",
        "colab": {
          "base_uri": "https://localhost:8080/"
        },
        "outputId": "a7cc268e-54df-4a2e-b365-4c6a0a4635ad"
      },
      "execution_count": null,
      "outputs": [
        {
          "output_type": "execute_result",
          "data": {
            "text/plain": [
              "6"
            ]
          },
          "metadata": {},
          "execution_count": 10
        }
      ]
    },
    {
      "cell_type": "code",
      "source": [
        "A[:,1] # all column compoent & 1-1 row"
      ],
      "metadata": {
        "id": "p-gM3WkUe1Ry",
        "colab": {
          "base_uri": "https://localhost:8080/"
        },
        "outputId": "a62ac648-3453-4eff-89d3-5b6c88a8b5d8"
      },
      "execution_count": null,
      "outputs": [
        {
          "output_type": "execute_result",
          "data": {
            "text/plain": [
              "array([2, 5])"
            ]
          },
          "metadata": {},
          "execution_count": 11
        }
      ]
    },
    {
      "cell_type": "code",
      "source": [
        "# See values of the first column: (Normalized) age --> We will see this on next topic (Logistic regression)\n",
        "diabetes_data['data'][:,0]"
      ],
      "metadata": {
        "id": "QIuQv4ATT5Bs",
        "colab": {
          "base_uri": "https://localhost:8080/"
        },
        "outputId": "4599cdef-c798-4026-ff4b-832d9fffca12"
      },
      "execution_count": null,
      "outputs": [
        {
          "output_type": "execute_result",
          "data": {
            "text/plain": [
              "array([ 0.03807591, -0.00188202,  0.08529891, -0.08906294,  0.00538306,\n",
              "       -0.09269548, -0.04547248,  0.06350368,  0.04170844, -0.07090025,\n",
              "       -0.09632802,  0.02717829,  0.01628068,  0.00538306,  0.04534098,\n",
              "       -0.05273755, -0.00551455,  0.07076875, -0.0382074 , -0.02730979,\n",
              "       -0.04910502, -0.0854304 , -0.0854304 ,  0.04534098, -0.06363517,\n",
              "       -0.06726771, -0.10722563, -0.02367725,  0.05260606,  0.06713621,\n",
              "       -0.06000263, -0.02367725,  0.03444337,  0.03081083,  0.01628068,\n",
              "        0.04897352,  0.01264814, -0.00914709, -0.00188202, -0.00188202,\n",
              "        0.00538306, -0.09996055, -0.06000263,  0.01991321,  0.04534098,\n",
              "        0.02717829, -0.05637009, -0.07816532,  0.06713621, -0.04183994,\n",
              "        0.03444337,  0.05987114, -0.05273755, -0.00914709, -0.04910502,\n",
              "       -0.04183994, -0.04183994, -0.02730979,  0.04170844,  0.06350368,\n",
              "       -0.07090025, -0.04183994, -0.02730979, -0.03457486,  0.06713621,\n",
              "       -0.04547248, -0.00914709,  0.04170844,  0.03807591,  0.01628068,\n",
              "       -0.00188202, -0.00188202,  0.06350368,  0.01264814,  0.01264814,\n",
              "       -0.00914709, -0.03094232, -0.09632802,  0.00538306, -0.10359309,\n",
              "        0.07076875,  0.01264814, -0.01641217, -0.0382074 ,  0.00175052,\n",
              "        0.04534098, -0.07090025,  0.04534098, -0.05273755, -0.04547248,\n",
              "        0.01264814,  0.04534098, -0.02004471, -0.04910502, -0.07816532,\n",
              "       -0.07090025,  0.0562386 , -0.02730979,  0.00175052, -0.00188202,\n",
              "        0.01628068,  0.01628068, -0.09269548,  0.05987114, -0.02730979,\n",
              "        0.02354575, -0.09632802,  0.02717829,  0.01991321,  0.03807591,\n",
              "        0.04170844,  0.01991321, -0.0854304 ,  0.01991321,  0.02354575,\n",
              "       -0.03094232,  0.04897352,  0.05987114, -0.05637009,  0.01628068,\n",
              "       -0.04910502,  0.06350368,  0.04897352,  0.00538306, -0.00551455,\n",
              "       -0.00551455, -0.08906294,  0.03444337, -0.05273755,  0.0090156 ,\n",
              "       -0.06363517, -0.09632802,  0.01628068, -0.04183994, -0.07453279,\n",
              "       -0.00551455, -0.09269548,  0.00538306,  0.03444337,  0.02354575,\n",
              "        0.04170844, -0.02730979,  0.04170844, -0.03094232,  0.03081083,\n",
              "       -0.04183994, -0.03094232, -0.05637009, -0.06000263, -0.04910502,\n",
              "        0.02354575,  0.00175052, -0.03457486,  0.04170844,  0.06713621,\n",
              "       -0.02730979, -0.01641217, -0.00188202, -0.01277963, -0.00551455,\n",
              "       -0.00914709, -0.04547248, -0.05273755,  0.01628068,  0.04534098,\n",
              "       -0.04183994, -0.05637009,  0.07076875,  0.00175052, -0.00188202,\n",
              "        0.02354575, -0.02004471,  0.04170844, -0.06363517,  0.01628068,\n",
              "        0.06713621,  0.04534098,  0.04897352,  0.04170844, -0.02367725,\n",
              "       -0.0382074 ,  0.04897352,  0.04534098,  0.04534098,  0.01628068,\n",
              "       -0.07453279, -0.08179786, -0.06726771,  0.00538306, -0.00188202,\n",
              "        0.0090156 , -0.00551455,  0.0562386 ,  0.0090156 , -0.06726771,\n",
              "        0.02717829, -0.02367725,  0.04897352, -0.05273755,  0.04170844,\n",
              "        0.0562386 , -0.03457486,  0.08166637, -0.00188202,  0.11072668,\n",
              "       -0.03094232,  0.00175052,  0.0090156 ,  0.03081083,  0.03807591,\n",
              "        0.0090156 ,  0.09256398,  0.06713621,  0.00175052,  0.03081083,\n",
              "        0.02717829,  0.01264814,  0.07440129, -0.04183994, -0.08906294,\n",
              "        0.02354575, -0.04547248, -0.02367725, -0.09996055, -0.02730979,\n",
              "        0.03081083, -0.10359309,  0.06713621, -0.05273755, -0.02730979,\n",
              "       -0.0382074 ,  0.0090156 ,  0.01264814,  0.06713621,  0.04534098,\n",
              "        0.06713621,  0.02717829,  0.0562386 ,  0.03444337,  0.02354575,\n",
              "        0.04897352,  0.03081083, -0.10359309,  0.01628068, -0.06000263,\n",
              "       -0.02730979,  0.04170844, -0.08179786, -0.04183994, -0.01277963,\n",
              "        0.06713621, -0.05273755,  0.00538306,  0.08166637,  0.03081083,\n",
              "        0.00175052, -0.04910502, -0.02730979,  0.07803383,  0.01264814,\n",
              "        0.04170844,  0.04897352, -0.01641217, -0.07453279,  0.03444337,\n",
              "       -0.03457486, -0.05273755,  0.05987114,  0.06350368,  0.0090156 ,\n",
              "        0.00538306,  0.03807591,  0.01264814,  0.07440129,  0.01628068,\n",
              "       -0.00551455,  0.01264814, -0.03457486,  0.06713621,  0.03807591,\n",
              "        0.0090156 , -0.09269548,  0.07076875, -0.01641217,  0.04170844,\n",
              "        0.01264814, -0.0382074 ,  0.04534098,  0.07076875, -0.07453279,\n",
              "        0.05987114,  0.07440129,  0.0090156 , -0.07090025,  0.02354575,\n",
              "       -0.05273755,  0.06713621,  0.00175052,  0.02354575,  0.03807591,\n",
              "        0.01628068, -0.00188202,  0.01264814,  0.07440129,  0.04170844,\n",
              "       -0.00914709,  0.0090156 ,  0.06713621,  0.00175052, -0.00914709,\n",
              "       -0.00551455,  0.09619652, -0.07453279,  0.05987114, -0.02367725,\n",
              "        0.0090156 ,  0.01628068,  0.01991321,  0.08893144,  0.01991321,\n",
              "       -0.02367725,  0.09619652,  0.02354575,  0.07076875,  0.03081083,\n",
              "       -0.00188202,  0.04534098,  0.07440129, -0.0382074 , -0.01277963,\n",
              "        0.0090156 ,  0.08166637,  0.03081083,  0.02717829, -0.06000263,\n",
              "        0.00538306, -0.02004471,  0.01991321, -0.06363517,  0.02717829,\n",
              "       -0.01641217,  0.03081083,  0.0562386 , -0.02004471, -0.10722563,\n",
              "        0.08166637,  0.00538306,  0.03807591,  0.03081083,  0.00175052,\n",
              "       -0.02730979, -0.0854304 ,  0.01264814, -0.05273755, -0.02367725,\n",
              "       -0.07453279, -0.00551455, -0.06000263, -0.02004471,  0.03807591,\n",
              "        0.01628068,  0.04170844,  0.01991321, -0.04910502,  0.00175052,\n",
              "        0.03444337, -0.04547248, -0.00914709, -0.01641217, -0.00914709,\n",
              "        0.01991321,  0.05260606, -0.02730979, -0.07453279, -0.10722563,\n",
              "        0.04534098, -0.00188202,  0.01991321,  0.01628068, -0.00188202,\n",
              "        0.01628068, -0.07090025,  0.04897352,  0.00538306,  0.03444337,\n",
              "        0.02354575,  0.01991321, -0.04547248,  0.05260606, -0.00551455,\n",
              "        0.0090156 , -0.02367725, -0.04183994, -0.07453279,  0.03444337,\n",
              "       -0.06000263, -0.0854304 ,  0.05260606,  0.01264814,  0.05987114,\n",
              "       -0.02367725,  0.01628068,  0.11072668, -0.02004471, -0.01641217,\n",
              "        0.04897352, -0.05637009,  0.02717829,  0.06350368, -0.05273755,\n",
              "       -0.00914709,  0.00538306,  0.07440129, -0.05273755,  0.08166637,\n",
              "       -0.00551455, -0.02730979, -0.05273755,  0.0090156 , -0.02004471,\n",
              "        0.02354575,  0.03807591, -0.07816532,  0.0090156 ,  0.00175052,\n",
              "       -0.07816532,  0.03081083, -0.03457486,  0.04897352, -0.04183994,\n",
              "       -0.00914709,  0.07076875,  0.0090156 , -0.02730979,  0.01628068,\n",
              "       -0.01277963, -0.05637009,  0.04170844, -0.00551455,  0.04170844,\n",
              "       -0.04547248, -0.04547248])"
            ]
          },
          "metadata": {},
          "execution_count": 12
        }
      ]
    },
    {
      "cell_type": "code",
      "source": [
        "plt.hist(diabetes_data['data'][:,0], bins=20)\n",
        "plt.show()"
      ],
      "metadata": {
        "id": "geQNiFPEUze4",
        "colab": {
          "base_uri": "https://localhost:8080/",
          "height": 430
        },
        "outputId": "83489190-2a0f-4e14-c4e3-3a06dd3b1f42"
      },
      "execution_count": null,
      "outputs": [
        {
          "output_type": "display_data",
          "data": {
            "text/plain": [
              "<Figure size 640x480 with 1 Axes>"
            ],
            "image/png": "[encoded data removed]"
          },
          "metadata": {}
        }
      ]
    },
    {
      "cell_type": "code",
      "source": [
        "print(diabetes_data['target'][:10]) ## Check target value = (real) numbers  --> regression problem"
      ],
      "metadata": {
        "id": "gcsn0wf5B_ok",
        "colab": {
          "base_uri": "https://localhost:8080/"
        },
        "outputId": "2ae58e8c-d233-4456-b687-42703964bcc6"
      },
      "execution_count": null,
      "outputs": [
        {
          "output_type": "stream",
          "name": "stdout",
          "text": [
            "[151.  75. 141. 206. 135.  97. 138.  63. 110. 310.]\n"
          ]
        }
      ]
    },
    {
      "cell_type": "code",
      "source": [
        "print(diabetes_data['feature_names'])\n"
      ],
      "metadata": {
        "colab": {
          "base_uri": "https://localhost:8080/"
        },
        "id": "IZMBmJpCHqOC",
        "outputId": "1f07cf45-5a57-4f2e-e10c-6b9cc93900f1"
      },
      "execution_count": null,
      "outputs": [
        {
          "output_type": "stream",
          "name": "stdout",
          "text": [
            "['age', 'sex', 'bmi', 'bp', 's1', 's2', 's3', 's4', 's5', 's6']\n"
          ]
        }
      ]
    },
    {
      "cell_type": "markdown",
      "source": [
        "$y=w_1 x_1 + \\cdots w_{10} x_{10} +b$\n",
        "$=(w_1, \\cdots, w_{10}, b) \\cdot (x_1, \\cdots, x_{10}, 1)$"
      ],
      "metadata": {
        "id": "HlBTMYRvgIpv"
      }
    },
    {
      "cell_type": "code",
      "source": [
        "X = diabetes_data['data']\n",
        "X = np.concatenate([X,np.ones((X.shape[0],1))], axis=1) #Artificial column for bias\n",
        "y = diabetes_data['target']"
      ],
      "metadata": {
        "id": "kEbGYoTkgmIg"
      },
      "execution_count": null,
      "outputs": []
    },
    {
      "cell_type": "code",
      "source": [
        "X[:10]"
      ],
      "metadata": {
        "colab": {
          "base_uri": "https://localhost:8080/"
        },
        "id": "-T9egd6BIvnT",
        "outputId": "029f2f6c-71af-4721-dc86-2781e41e2d73"
      },
      "execution_count": null,
      "outputs": [
        {
          "output_type": "execute_result",
          "data": {
            "text/plain": [
              "array([[ 3.80759064e-02,  5.06801187e-02,  6.16962065e-02,\n",
              "         2.18723855e-02, -4.42234984e-02, -3.48207628e-02,\n",
              "        -4.34008457e-02, -2.59226200e-03,  1.99074862e-02,\n",
              "        -1.76461252e-02,  1.00000000e+00],\n",
              "       [-1.88201653e-03, -4.46416365e-02, -5.14740612e-02,\n",
              "        -2.63275281e-02, -8.44872411e-03, -1.91633397e-02,\n",
              "         7.44115641e-02, -3.94933829e-02, -6.83315471e-02,\n",
              "        -9.22040496e-02,  1.00000000e+00],\n",
              "       [ 8.52989063e-02,  5.06801187e-02,  4.44512133e-02,\n",
              "        -5.67042229e-03, -4.55994513e-02, -3.41944659e-02,\n",
              "        -3.23559322e-02, -2.59226200e-03,  2.86130929e-03,\n",
              "        -2.59303390e-02,  1.00000000e+00],\n",
              "       [-8.90629394e-02, -4.46416365e-02, -1.15950145e-02,\n",
              "        -3.66560811e-02,  1.21905688e-02,  2.49905934e-02,\n",
              "        -3.60375700e-02,  3.43088589e-02,  2.26877450e-02,\n",
              "        -9.36191133e-03,  1.00000000e+00],\n",
              "       [ 5.38306037e-03, -4.46416365e-02, -3.63846922e-02,\n",
              "         2.18723855e-02,  3.93485161e-03,  1.55961395e-02,\n",
              "         8.14208361e-03, -2.59226200e-03, -3.19876395e-02,\n",
              "        -4.66408736e-02,  1.00000000e+00],\n",
              "       [-9.26954778e-02, -4.46416365e-02, -4.06959405e-02,\n",
              "        -1.94418262e-02, -6.89906499e-02, -7.92878444e-02,\n",
              "         4.12768238e-02, -7.63945038e-02, -4.11761669e-02,\n",
              "        -9.63461565e-02,  1.00000000e+00],\n",
              "       [-4.54724779e-02,  5.06801187e-02, -4.71628129e-02,\n",
              "        -1.59989752e-02, -4.00956398e-02, -2.48000121e-02,\n",
              "         7.78807997e-04, -3.94933829e-02, -6.29168791e-02,\n",
              "        -3.83566597e-02,  1.00000000e+00],\n",
              "       [ 6.35036756e-02,  5.06801187e-02, -1.89470584e-03,\n",
              "         6.66294482e-02,  9.06198817e-02,  1.08914381e-01,\n",
              "         2.28686348e-02,  1.77033545e-02, -3.58161926e-02,\n",
              "         3.06440941e-03,  1.00000000e+00],\n",
              "       [ 4.17084449e-02,  5.06801187e-02,  6.16962065e-02,\n",
              "        -4.00989321e-02, -1.39525355e-02,  6.20168566e-03,\n",
              "        -2.86742944e-02, -2.59226200e-03, -1.49596938e-02,\n",
              "         1.13486232e-02,  1.00000000e+00],\n",
              "       [-7.09002471e-02, -4.46416365e-02,  3.90621530e-02,\n",
              "        -3.32132301e-02, -1.25765827e-02, -3.45076144e-02,\n",
              "        -2.49926566e-02, -2.59226200e-03,  6.77370531e-02,\n",
              "        -1.35040182e-02,  1.00000000e+00]])"
            ]
          },
          "metadata": {},
          "execution_count": 19
        }
      ]
    },
    {
      "cell_type": "code",
      "source": [
        "np.random.seed(20241126)\n",
        "weights = np.random.randn(11) # Generate initial weights w1~w10 and bias b"
      ],
      "metadata": {
        "id": "QfLShQOPSW07"
      },
      "execution_count": null,
      "outputs": []
    },
    {
      "cell_type": "code",
      "source": [
        "weights"
      ],
      "metadata": {
        "id": "-44R2qJfh2R7"
      },
      "execution_count": null,
      "outputs": []
    },
    {
      "cell_type": "code",
      "source": [
        "np.sum(weights * X, axis=1) # w1x1+...+w10x10+b"
      ],
      "metadata": {
        "id": "9oBREsDWgWZq"
      },
      "execution_count": null,
      "outputs": []
    },
    {
      "cell_type": "code",
      "source": [
        "def L2_loss(weights):\n",
        "    l1 = y-np.sum(weights * X, axis=1)\n",
        "    l2 = l1**2\n",
        "    L2_loss = np.sum(l2)/len(l2) # or, np.mean(l2)\n",
        "    return L2_loss\n",
        "print(L2_loss(weights))"
      ],
      "metadata": {
        "id": "87FbqaTEg0Lh"
      },
      "execution_count": null,
      "outputs": []
    },
    {
      "cell_type": "code",
      "source": [
        "epsilon = 1e-7"
      ],
      "metadata": {
        "id": "zCLHZJyYiywR"
      },
      "execution_count": null,
      "outputs": []
    },
    {
      "cell_type": "code",
      "source": [
        "# Here is a straightforward approach to calculate the gradient of L2loss\n",
        "\n",
        "w1_grad = (L2_loss(weights + np.array([epsilon,0,0,0,0,0,0,0,0,0,0]))-L2_loss(weights))/epsilon"
      ],
      "metadata": {
        "id": "pjltXuZwiukZ"
      },
      "execution_count": null,
      "outputs": []
    },
    {
      "cell_type": "markdown",
      "source": [],
      "metadata": {
        "id": "N8M-1lB_2kSx"
      }
    },
    {
      "cell_type": "markdown",
      "source": [],
      "metadata": {
        "id": "lnG5MOEh2kZ8"
      }
    },
    {
      "cell_type": "markdown",
      "source": [],
      "metadata": {
        "id": "6Eiqisl-2kco"
      }
    },
    {
      "cell_type": "markdown",
      "source": [],
      "metadata": {
        "id": "A67Xnj2s2ke4"
      }
    },
    {
      "cell_type": "code",
      "source": [
        "w2_grad = (L2_loss(weights + np.array([0,epsilon,0,0,0,0,0,0,0,0,0]))-L2_loss(weights))/epsilon\n",
        "w3_grad = (L2_loss(weights + np.array([0,0,epsilon,0,0,0,0,0,0,0,0]))-L2_loss(weights))/epsilon\n",
        "w4_grad = (L2_loss(weights + np.array([0,0,0,epsilon,0,0,0,0,0,0,0]))-L2_loss(weights))/epsilon\n",
        "w5_grad = (L2_loss(weights + np.array([0,0,0,0,epsilon,0,0,0,0,0,0]))-L2_loss(weights))/epsilon\n",
        "w6_grad = (L2_loss(weights + np.array([0,0,0,0,0,epsilon,0,0,0,0,0]))-L2_loss(weights))/epsilon\n",
        "w7_grad = (L2_loss(weights + np.array([0,0,0,0,0,0,epsilon,0,0,0,0]))-L2_loss(weights))/epsilon\n",
        "w8_grad = (L2_loss(weights + np.array([0,0,0,0,0,0,0,epsilon,0,0,0]))-L2_loss(weights))/epsilon\n",
        "w9_grad = (L2_loss(weights + np.array([0,0,0,0,0,0,0,0,epsilon,0,0]))-L2_loss(weights))/epsilon\n",
        "w10_grad = (L2_loss(weights + np.array([0,0,0,0,0,0,0,0,0,epsilon,0]))-L2_loss(weights))/epsilon\n",
        "b_grad = (L2_loss(weights + np.array([0,0,0,0,0,0,0,0,0,0,epsilon]))-L2_loss(weights))/epsilon"
      ],
      "metadata": {
        "id": "p6QyZScg2e44"
      },
      "execution_count": null,
      "outputs": []
    },
    {
      "cell_type": "code",
      "source": [
        "[w1_grad, w2_grad, w3_grad, b_grad]"
      ],
      "metadata": {
        "id": "jknzN7KwyBPh"
      },
      "execution_count": null,
      "outputs": []
    },
    {
      "cell_type": "code",
      "source": [
        "#simple way\n",
        "\n",
        "grads = []\n",
        "num_params = 11\n",
        "\n",
        "for i in range(num_params):\n",
        "    perturbation = np.zeros(num_params)\n",
        "    perturbation[i] = epsilon\n",
        "    grad = (L2_loss(weights + perturbation) - L2_loss(weights)) / epsilon\n",
        "    grads.append(grad)\n",
        "\n",
        "grads = np.array(grads)"
      ],
      "metadata": {
        "id": "nX7NbzQpxuZc"
      },
      "execution_count": null,
      "outputs": []
    },
    {
      "cell_type": "code",
      "source": [
        "grads"
      ],
      "metadata": {
        "id": "WeVPJEPcx_yK"
      },
      "execution_count": null,
      "outputs": []
    },
    {
      "cell_type": "code",
      "source": [
        "eta = 1e-2 # step size (or learning rate) for the gradient descent\n",
        "\n",
        "weights_new = weights - eta * grads\n",
        "weights = weights_new\n",
        "\n",
        "print(L2_loss(weights))"
      ],
      "metadata": {
        "id": "sw6Bm-MpyMDL"
      },
      "execution_count": null,
      "outputs": []
    },
    {
      "cell_type": "code",
      "source": [
        "for i in range(100000):\n",
        "  grads = []\n",
        "  num_params = 11\n",
        "\n",
        "  for i in range(num_params):\n",
        "      perturbation = np.zeros(num_params)\n",
        "      perturbation[i] = epsilon\n",
        "      grad = (L2_loss(weights + perturbation) - L2_loss(weights)) / epsilon\n",
        "      grads.append(grad)\n",
        "\n",
        "  grads = np.array(grads)\n",
        "\n",
        "  weights_new = weights - eta * grads\n",
        "\n",
        "  weights = weights_new\n",
        "\n",
        "  if i % 1000 == 0:\n",
        "    print(L2_loss(weights))\n",
        "  #print(mu_new, sigma_new)"
      ],
      "metadata": {
        "id": "eD7Ns-XuymaQ"
      },
      "execution_count": null,
      "outputs": []
    },
    {
      "cell_type": "code",
      "source": [
        "plt.scatter(y, np.sum(weights * X, axis=1))\n",
        "plt.plot([min(y), max(y)], [min(y), max(y)], color = 'r')\n",
        "plt.show()"
      ],
      "metadata": {
        "id": "J-jS1EPRytDy"
      },
      "execution_count": null,
      "outputs": []
    },
    {
      "cell_type": "markdown",
      "source": [
        "Q: How can we evaluate\n",
        "\n",
        "A: Separate (X,y) into train and test dataset!"
      ],
      "metadata": {
        "id": "oVcGvibFymkl"
      }
    },
    {
      "cell_type": "code",
      "source": [],
      "metadata": {
        "id": "BsnhMC1C1edv"
      },
      "execution_count": null,
      "outputs": []
    }
  ]
}